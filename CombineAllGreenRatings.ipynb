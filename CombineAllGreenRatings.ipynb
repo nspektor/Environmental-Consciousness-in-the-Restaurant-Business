{
 "cells": [
  {
   "cell_type": "code",
   "execution_count": null,
   "metadata": {},
   "outputs": [],
   "source": [
    "import pandas as pd\n",
    "yelp_text_env_term_rating = pd.read_csv(\"green_rating_from_yelp_text_and_defined_env_terms_1000.csv\")\n",
    "small_name_review_green = pd.read_csv(\"DataSources/small_name_review_green.csv\")\n"
   ]
  }
 ],
 "metadata": {
  "kernelspec": {
   "display_name": "Python 3",
   "language": "python",
   "name": "python3"
  },
  "language_info": {
   "codemirror_mode": {
    "name": "ipython",
    "version": 3
   },
   "file_extension": ".py",
   "mimetype": "text/x-python",
   "name": "python",
   "nbconvert_exporter": "python",
   "pygments_lexer": "ipython3",
   "version": "3.6.5"
  }
 },
 "nbformat": 4,
 "nbformat_minor": 2
}
