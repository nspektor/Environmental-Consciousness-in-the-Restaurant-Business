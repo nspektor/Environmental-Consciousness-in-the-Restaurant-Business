{
 "cells": [
  {
   "cell_type": "code",
   "execution_count": 4,
   "metadata": {},
   "outputs": [],
   "source": [
    "import pandas as pd\n",
    "seafoodFile = '../DataSources/original_sources/SeafoodWatch.csv'\n",
    "df = pd.read_csv(seafoodFile)"
   ]
  },
  {
   "cell_type": "code",
   "execution_count": 10,
   "metadata": {},
   "outputs": [],
   "source": [
    "restaurants = df.loc[df['PartnerTypes'] == 'Restaurant Partner']"
   ]
  },
  {
   "cell_type": "code",
   "execution_count": 31,
   "metadata": {},
   "outputs": [],
   "source": [
    "def cleanStr(r):\n",
    "    idx = r.find('(')\n",
    "    if(idx != -1):\n",
    "        return r[0:idx]\n",
    "    else:\n",
    "        return r\n",
    "restaurantNames = restaurants['Title'].apply(lambda r: cleanStr(r) ).unique()"
   ]
  },
  {
   "cell_type": "code",
   "execution_count": 32,
   "metadata": {},
   "outputs": [
    {
     "data": {
      "text/plain": [
       "array(['A Taste of Monterey', 'Aquarius Restaurant',\n",
       "       'Asilomar Conference Grounds', 'Arrowleaf Bistro', 'Artisan',\n",
       "       'Axiote. Cocina de Mexico', 'Bamboo Sushi', 'Bar Sardine',\n",
       "       'Barrel House Tavern', 'Basil Seasonal Dining', 'Basta',\n",
       "       'Big Wave Cafe', 'Bistro Boudin', 'Blue Window ',\n",
       "       'Blue Window Dumplings ', 'Blue Window Sushi ', 'Bondi Sushi',\n",
       "       'Bouquet Restaurant', 'Border Grill', 'Brown Bag Seafood Company',\n",
       "       'California Fish Grill', 'Canyon Grille Rough Hollow',\n",
       "       'Casa Figueroa', 'Chileno Bay - Comal', 'Clos Restaurante',\n",
       "       'Colectivo Felix', 'Cafe Del Rey', 'Café Fina', 'Café Mare',\n",
       "       'Cal Dining - Berkeley', 'Cannery Row Brewing Company', 'Carmo',\n",
       "       'Cart-Driver', \"Cat Cora's Kitchen\", 'Chateau Faire Le Pont',\n",
       "       'Coho Restaurant', 'Cress Restaurant',\n",
       "       \"California Market at Pacific's Edge\", 'Crave Fishbar',\n",
       "       'Dig Inn Seasonal Market',\n",
       "       'Cool Eatz at Cantor Arts at Stanford University',\n",
       "       'Cool Eatz at Flea St. Cafe', 'Cool Eatz at Menlo Business Park',\n",
       "       'Dalva e Dito', 'Decca', 'D.O.M.', 'Drift Fish House & Oyster Bar',\n",
       "       'Doc Ricketts', \"Domenico's on the Wharf\",\n",
       "       \"Edgar's Restaurant at Quail Lodge & Gulf Club\",\n",
       "       'Esalen Institute', 'Etas-Unis French American Bistro',\n",
       "       'Farallon Restaurant', 'Fedora Restaurant', \"Fini's Landing\",\n",
       "       'Fire, Food & Drink', 'Fish. Restaurant', 'Fog Harbor Fish House',\n",
       "       'Galletto Ristorante', 'Geisha Sustainable Sushi', 'Ginger 108',\n",
       "       'Grillfish DC', 'Haymaker Restaurant', 'Hukilau Lanai',\n",
       "       'Healdsburg SHED', 'Hog Island Oyster Bar',\n",
       "       \"Hula's Island Grill and Tiki Room\", 'Hog Island Oyster Farm',\n",
       "       'Jax Fish House & Oyster Bar',\n",
       "       'Il Casaro Pizzeria & Mozzarella Bar', 'Il Villaggio Osteria',\n",
       "       'Indigenous', 'Inn at Perry Cabin', 'The Club Room ',\n",
       "       'Jacks Monterey ', 'Jimmys Famous American Tavern', 'Kellari',\n",
       "       \"Jonathan's Ogunquit\", 'Kingfisher Restaurant & Wine Bar',\n",
       "       'Knuckles Sports Bar at the Hyatt Regency', 'Kyatchi',\n",
       "       'La Balena Cucina Toscana', 'La Viga Seafood & Cocina Mexicana',\n",
       "       'LEGOLAND California Resort', 'Limu & Shoyu',\n",
       "       'Lucky Robot Japanese Kitchen', 'Lucky Rooster Kitchen and Bar',\n",
       "       'LV Mar Tapas & Cocktails', 'Landmarc', 'Luna Blu', 'Magpie Cafe',\n",
       "       'Margaritaville Capitola', \"Mario's Ocean Club\",\n",
       "       'The Marx Bros. Café', 'Mayanoki', \"Miya's Sushi\",\n",
       "       'MKT Restaurant - Four Seasons Hotel', 'Monterey Bay Fish Grotto',\n",
       "       'Montrio Bistro', 'Mustards Grill',\n",
       "       'Hook and Spear at Newport Beach Marriott Hotel and Spa',\n",
       "       'NICO Oysters and Seafood', 'Nourish Sequim', 'Nushii',\n",
       "       'Off the Hook Fishbar', 'Oryx Capital', \"Old Fisherman's Grotto\",\n",
       "       'Park Place Restaurant', 'Prawn Grand Central Market',\n",
       "       'Prawn Pasadena', 'Preux & Proper', 'Pursue Detroit',\n",
       "       'Pacific Sushi & Grill', 'Passionfish',\n",
       "       \"Peter B's Brewpub at the Portola Hotel and Spa\",\n",
       "       'Pier Market Restaurant', 'Pierre Lafond Wine Bistro',\n",
       "       'Point Pinos Grill', \"Porter's in the Forest\",\n",
       "       'Q Roadhouse & Brewing Co.', 'QuickFish Poke Bar',\n",
       "       'Rendezvous Bistro', 'Ristorante Avanti', 'Rootstock and Vine',\n",
       "       'Reserve Wine & Food', 'Rouge Restaurant', 'Red Lobster',\n",
       "       'Seafood Shack',\n",
       "       \"Schooner's Coastal Kitchen & Bar at the Monterey Plaza Hotel & Spa\",\n",
       "       \"Scoma's\", 'Screaming Tuna', 'Seattle University - Bon Appétit',\n",
       "       'Seviche', 'Sierra Mar Restaurant at Post Ranch Inn',\n",
       "       'Sodexo - The Academy Cafe', 'Sodexo - The Terrace',\n",
       "       'South Gate Brewing Company', 'Southpark Seafood',\n",
       "       'Steamer Lane Supply', 'Suda Restaurant', 'Sushi Samurai',\n",
       "       'Tacolicious', 'The Bar and Noodle ', 'The Breadfruit & Rum Bar',\n",
       "       'The Fish Stop Inc', 'The Grotto', 'The Poke Lab', 'The Salt Line',\n",
       "       'Third Wave Cafe', 'TOSAI Sushi', 'Trails End Table and Tap',\n",
       "       'The Restaurant at the Monterey Bay Aquarium', \"Taylor's Kitchen\",\n",
       "       'The C Restaurant + Bar at the Clement Hotel', 'The Fish Hopper',\n",
       "       'The Lobster Trap', 'The Market Place Restaurant & Lounge',\n",
       "       'The Oyster Bar Bangkok', 'The Plant Café Organic',\n",
       "       'The Sardine Factory',\n",
       "       'TusCA Restaurant at the Hyatt Regency Hotel and Spa',\n",
       "       'Urban Farmer', 'Village Corner Restaurant', 'Waterbar',\n",
       "       'Water Street Kitchen', \"Whaley's\", 'Woodhouse Fish Co. ',\n",
       "       'Wipeout Bar and Grill'], dtype=object)"
      ]
     },
     "execution_count": 32,
     "metadata": {},
     "output_type": "execute_result"
    }
   ],
   "source": [
    "restaurantNames"
   ]
  },
  {
   "cell_type": "code",
   "execution_count": null,
   "metadata": {},
   "outputs": [],
   "source": []
  }
 ],
 "metadata": {
  "kernelspec": {
   "display_name": "Python 3",
   "language": "python",
   "name": "python3"
  },
  "language_info": {
   "codemirror_mode": {
    "name": "ipython",
    "version": 3
   },
   "file_extension": ".py",
   "mimetype": "text/x-python",
   "name": "python",
   "nbconvert_exporter": "python",
   "pygments_lexer": "ipython3",
   "version": "3.6.5"
  }
 },
 "nbformat": 4,
 "nbformat_minor": 1
}
